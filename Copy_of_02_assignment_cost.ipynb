{
  "nbformat": 4,
  "nbformat_minor": 0,
  "metadata": {
    "colab": {
      "name": "Copy of 02_assignment_cost.ipynb",
      "provenance": [],
      "collapsed_sections": [],
      "include_colab_link": true
    },
    "kernelspec": {
      "name": "python3",
      "display_name": "Python 3"
    }
  },
  "cells": [
    {
      "cell_type": "markdown",
      "metadata": {
        "id": "view-in-github",
        "colab_type": "text"
      },
      "source": [
        "<a href=\"https://colab.research.google.com/github/helah20/Machine_learning/blob/main/Copy_of_02_assignment_cost.ipynb\" target=\"_parent\"><img src=\"https://colab.research.google.com/assets/colab-badge.svg\" alt=\"Open In Colab\"/></a>"
      ]
    },
    {
      "cell_type": "code",
      "metadata": {
        "id": "0DBsWMnDfWJN"
      },
      "source": [
        "%%capture\n",
        "# STARTER CODE - RUN THIS CELL - DO NOT CHANGE\n",
        "!pip install category_encoders\n",
        "import seaborn as sns\n",
        "import pandas as pd\n",
        "import numpy as np\n",
        "import matplotlib.pyplot as plt\n",
        "import category_encoders as ce\n",
        "from sklearn.linear_model import LinearRegression, LogisticRegression\n",
        "from sklearn.preprocessing import StandardScaler\n",
        "from sklearn.model_selection import train_test_split\n",
        "from sklearn.pipeline import make_pipeline\n",
        "from sklearn.metrics import mean_squared_error, mean_absolute_error, accuracy_score, accuracy_score, recall_score, precision_score\n",
        "df_r = sns.load_dataset(\"tips\").dropna()\n",
        "df_c = sns.load_dataset(\"titanic\").dropna()\n",
        "model_r = LinearRegression()\n",
        "model_c = LogisticRegression()\n",
        "x_train_r, x_test_r, y_train_r, y_test_r = train_test_split(df_r.drop(\"total_bill\", axis=1), df_r[\"total_bill\"])\n",
        "x_train_c, x_test_c, y_train_c, y_test_c = train_test_split(df_c.drop([\"survived\", \"alive\", \"adult_male\"], axis=1), df_c[\"survived\"])\n",
        "pipe_r = make_pipeline(ce.OrdinalEncoder(), StandardScaler(), LinearRegression()).fit(x_train_r, y_train_r)\n",
        "pipe_c = make_pipeline(ce.OrdinalEncoder(), StandardScaler(), LogisticRegression()).fit(x_train_c, y_train_c)\n",
        "y_pred_r = pipe_r.predict(x_test_r)\n",
        "y_pred_c = pipe_c.predict(x_test_c)"
      ],
      "execution_count": null,
      "outputs": []
    },
    {
      "cell_type": "markdown",
      "metadata": {
        "id": "JA6ub2bZemNP"
      },
      "source": [
        "# Cost Functions\n",
        "\n",
        "- Without importing any libraries please write a cost function for each of the following listed below.\n",
        "- Do not refrence ANY online resources other than whats provided\n",
        "\n",
        "You can only use these resources, `pandas` and `numpy` to make your functions:\n",
        "- [Mean Squared Error](https://en.wikipedia.org/wiki/Mean_squared_error)\n",
        "- [Mean Absolute Error](https://en.wikipedia.org/wiki/Mean_absolute_error)\n",
        "- [Root Mean Squared Error](https://en.wikipedia.org/wiki/Root-mean-square_deviation)\n",
        "- [Residual Sum of Squares](https://en.wikipedia.org/wiki/Residual_sum_of_squares)\n",
        "- [Precision, Recall, Accuracy](https://en.wikipedia.org/wiki/Confusion_matrix)\n",
        "- [Scikit-Learn](https://scikit-learn.org/stable/index.html)"
      ]
    },
    {
      "cell_type": "markdown",
      "metadata": {
        "id": "39_TltPpf60I"
      },
      "source": [
        "#### Regression Cost Functions\n",
        "\n",
        "- Use `y_test_r` as your true labels\n",
        "- Use `y_pred_r` as your predicted labels"
      ]
    },
    {
      "cell_type": "code",
      "metadata": {
        "id": "LgU4Ke0Cd3gw",
        "colab": {
          "base_uri": "https://localhost:8080/"
        },
        "outputId": "fb3e4a6d-5537-4538-f5b6-1b50b0e3cc14"
      },
      "source": [
        "# Create a Mean Squared Error Function\n",
        "def mse(y_true, y_pred):\n",
        "    msc=np.sum(np.square(np.subtract(y_true, y_pred)))/(len(y_pred))\n",
        "    return msc\n",
        "\n",
        "mse(y_test_r, y_pred_r)"
      ],
      "execution_count": null,
      "outputs": [
        {
          "output_type": "execute_result",
          "data": {
            "text/plain": [
              "35.754571530227196"
            ]
          },
          "metadata": {
            "tags": []
          },
          "execution_count": 27
        }
      ]
    },
    {
      "cell_type": "code",
      "metadata": {
        "id": "Eyp3WVY_tuBz",
        "colab": {
          "base_uri": "https://localhost:8080/"
        },
        "outputId": "68367539-845b-437a-a7ab-6729d71cb57a"
      },
      "source": [
        "# Your Mean Squared Error function should equal this value\n",
        "mean_squared_error(y_test_r, y_pred_r)"
      ],
      "execution_count": null,
      "outputs": [
        {
          "output_type": "execute_result",
          "data": {
            "text/plain": [
              "35.754571530227196"
            ]
          },
          "metadata": {
            "tags": []
          },
          "execution_count": 13
        }
      ]
    },
    {
      "cell_type": "code",
      "metadata": {
        "id": "n-B-pkxtfAtI",
        "colab": {
          "base_uri": "https://localhost:8080/"
        },
        "outputId": "335a9b05-73eb-48a6-a11b-788da27f419a"
      },
      "source": [
        "# Create a Mean Absolute Error Function\n",
        "def mae(y_true, y_pred):\n",
        "    mae=np.sum(np.abs(np.subtract(y_true, y_pred)))/(len(y_pred))\n",
        "    return mae\n",
        "\n",
        "mae(y_test_r, y_pred_r)"
      ],
      "execution_count": null,
      "outputs": [
        {
          "output_type": "execute_result",
          "data": {
            "text/plain": [
              "4.576352592945136"
            ]
          },
          "metadata": {
            "tags": []
          },
          "execution_count": 17
        }
      ]
    },
    {
      "cell_type": "code",
      "metadata": {
        "id": "8ZzkyvrSuCkc",
        "colab": {
          "base_uri": "https://localhost:8080/"
        },
        "outputId": "a3d0f912-7686-4316-9116-6db474d531c6"
      },
      "source": [
        "# Your Mean Absolute Error function should equal this value\n",
        "mean_absolute_error(y_test_r, y_pred_r)"
      ],
      "execution_count": null,
      "outputs": [
        {
          "output_type": "execute_result",
          "data": {
            "text/plain": [
              "4.576352592945136"
            ]
          },
          "metadata": {
            "tags": []
          },
          "execution_count": 18
        }
      ]
    },
    {
      "cell_type": "code",
      "metadata": {
        "id": "w4nobsDJfk4L",
        "colab": {
          "base_uri": "https://localhost:8080/"
        },
        "outputId": "7682c156-be82-493a-fdc8-2a9cb29a431e"
      },
      "source": [
        "# Create a Root Mean Squared Error Function\n",
        "def rmse(y_true, y_pred):\n",
        "    rmse=np.sqrt(np.square(np.subtract(y_true, y_pred)).mean())\n",
        "    return rmse\n",
        "\n",
        "rmse(y_test_r, y_pred_r)"
      ],
      "execution_count": null,
      "outputs": [
        {
          "output_type": "execute_result",
          "data": {
            "text/plain": [
              "5.979512649892731"
            ]
          },
          "metadata": {
            "tags": []
          },
          "execution_count": 22
        }
      ]
    },
    {
      "cell_type": "code",
      "metadata": {
        "id": "WswkpQCruRyb",
        "colab": {
          "base_uri": "https://localhost:8080/"
        },
        "outputId": "6c4068ca-9766-42ca-dfd5-bcfe1843fba0"
      },
      "source": [
        "# Your Root Mean Squared Error function should equal this value\n",
        "mean_squared_error(y_test_r, y_pred_r, squared=False)"
      ],
      "execution_count": null,
      "outputs": [
        {
          "output_type": "execute_result",
          "data": {
            "text/plain": [
              "5.979512649892731"
            ]
          },
          "metadata": {
            "tags": []
          },
          "execution_count": 23
        }
      ]
    },
    {
      "cell_type": "code",
      "metadata": {
        "id": "RcuwEx9qd_hq",
        "colab": {
          "base_uri": "https://localhost:8080/"
        },
        "outputId": "15e3df11-9f51-4c14-86c2-13533c5045ee"
      },
      "source": [
        "# Create a Sum of Squared Error Function\n",
        "def rss(y_true, y_pred):\n",
        "    rss=np.sum(np.square(np.subtract(y_true, y_pred)))\n",
        "    return rss\n",
        "\n",
        "rss(y_test_r, y_pred_r)"
      ],
      "execution_count": null,
      "outputs": [
        {
          "output_type": "execute_result",
          "data": {
            "text/plain": [
              "2181.028863343859"
            ]
          },
          "metadata": {
            "tags": []
          },
          "execution_count": 28
        }
      ]
    },
    {
      "cell_type": "markdown",
      "metadata": {
        "id": "fYpJ2jdYf-Et"
      },
      "source": [
        "#### Classification Cost Functions\n",
        "\n",
        "- Use `y_test_c` as your true labels\n",
        "- Use `y_pred_c` as your predicted labels"
      ]
    },
    {
      "cell_type": "code",
      "metadata": {
        "id": "aipG_B_7h3yI",
        "colab": {
          "base_uri": "https://localhost:8080/"
        },
        "outputId": "d6aa9c52-cc8a-40ba-9c1c-d1347617d3c3"
      },
      "source": [
        "# Replace None with the correct value value\n",
        "true_positive = 0\n",
        "true_negative = 0\n",
        "false_positive = 0\n",
        "false_negative = 0\n",
        "\n",
        "# Write a loop to identify true positives, false negatives, false positives, and true negatives\n",
        "for x in range(len(y_test_c)):\n",
        "    if y_test_c.iloc[x] == y_pred_c[x]:\n",
        "        if y_pred_c[x] == 1:\n",
        "            true_positive += 1   # add 1 to the true_positive, true_negative, false_positive or false_negative count (do this for each pass, each of the 4 should be represented once)\n",
        "        if y_pred_c[x] == 0:\n",
        "            true_negative += 1\n",
        "    if y_test_c.iloc[x] != y_pred_c[x]:\n",
        "        if y_pred_c[x] == 1:\n",
        "            false_positive+=1\n",
        "        if y_pred_c[x] == 0:\n",
        "            false_negative+=1\n",
        "print(f\"True Positives: {true_positive}\\nTrue Negatives: {true_negative}\\nFalse Positives: {false_positive}\\nFalse Negatives: {false_negative}\")\n",
        "# Uncomment below when your loop works to see totals of each\n",
        "# print(f\"True Positives: {true_positive}\\nTrue Negatives: {true_negative}\\nFalse Positives: {false_positive}\\nFalse Negatives: {false_negative}\")"
      ],
      "execution_count": 34,
      "outputs": [
        {
          "output_type": "stream",
          "text": [
            "True Positives: 21\n",
            "True Negatives: 10\n",
            "False Positives: 9\n",
            "False Negatives: 6\n"
          ],
          "name": "stdout"
        }
      ]
    },
    {
      "cell_type": "code",
      "metadata": {
        "id": "Q3Ctlw2heCig",
        "colab": {
          "base_uri": "https://localhost:8080/"
        },
        "outputId": "71fff59b-47e5-441c-d003-fb7854d2d168"
      },
      "source": [
        "# Create A Function to Calculate Precision\n",
        "def precision(TP, FP):\n",
        "    p = TP / (FP + TP )\n",
        "    return p\n",
        " \n",
        "\n",
        "precision(true_positive, false_positive)"
      ],
      "execution_count": 35,
      "outputs": [
        {
          "output_type": "execute_result",
          "data": {
            "text/plain": [
              "0.7"
            ]
          },
          "metadata": {
            "tags": []
          },
          "execution_count": 35
        }
      ]
    },
    {
      "cell_type": "code",
      "metadata": {
        "id": "UpzJxKZJqz9S",
        "colab": {
          "base_uri": "https://localhost:8080/"
        },
        "outputId": "e177d94a-ab82-438c-f9fd-fee7415627aa"
      },
      "source": [
        "# Your precision function should equal this value\n",
        "precision_score(y_test_c, y_pred_c)"
      ],
      "execution_count": null,
      "outputs": [
        {
          "output_type": "execute_result",
          "data": {
            "text/plain": [
              "0.7"
            ]
          },
          "metadata": {
            "tags": []
          },
          "execution_count": 33
        }
      ]
    },
    {
      "cell_type": "code",
      "metadata": {
        "id": "rAX5khvCedHC",
        "colab": {
          "base_uri": "https://localhost:8080/"
        },
        "outputId": "65a10a2a-13f1-40c7-ab85-a15caa652dfa"
      },
      "source": [
        "# Create A Function to Calculate Recall\n",
        "def recall(TP, FN):\n",
        "  p = TP / ( TP + FN )\n",
        "  return p\n",
        "recall(true_positive, false_negative)"
      ],
      "execution_count": 37,
      "outputs": [
        {
          "output_type": "execute_result",
          "data": {
            "text/plain": [
              "0.7777777777777778"
            ]
          },
          "metadata": {
            "tags": []
          },
          "execution_count": 37
        }
      ]
    },
    {
      "cell_type": "code",
      "metadata": {
        "id": "sPin2Q9Zqk-X",
        "colab": {
          "base_uri": "https://localhost:8080/"
        },
        "outputId": "8da76643-21a8-4efe-d691-a5c007a97d58"
      },
      "source": [
        "# Your recall function should equal this value\n",
        "recall_score(y_test_c, y_pred_c)"
      ],
      "execution_count": 38,
      "outputs": [
        {
          "output_type": "execute_result",
          "data": {
            "text/plain": [
              "0.7777777777777778"
            ]
          },
          "metadata": {
            "tags": []
          },
          "execution_count": 38
        }
      ]
    },
    {
      "cell_type": "code",
      "metadata": {
        "id": "RQ8YleBTegvn",
        "colab": {
          "base_uri": "https://localhost:8080/"
        },
        "outputId": "7d3e9983-1ca1-44fa-e891-4cfd81e6d389"
      },
      "source": [
        "# Create a Function to Calculate Accuracy\n",
        "def accuracy(TP, FP, TN, FN):\n",
        "  p = (TP+ TN )/ (TP+TN+FP + FN )\n",
        "\n",
        "  return p\n",
        "\n",
        "accuracy(true_positive, false_positive, true_negative, false_negative)"
      ],
      "execution_count": 42,
      "outputs": [
        {
          "output_type": "execute_result",
          "data": {
            "text/plain": [
              "0.6739130434782609"
            ]
          },
          "metadata": {
            "tags": []
          },
          "execution_count": 42
        }
      ]
    },
    {
      "cell_type": "code",
      "metadata": {
        "id": "tzNMG0PmqSkn",
        "colab": {
          "base_uri": "https://localhost:8080/"
        },
        "outputId": "5d31c468-dc59-449e-cd3d-bdabedbff2c3"
      },
      "source": [
        "# Your accuracy score function should equal this value\n",
        "accuracy_score(y_test_c, y_pred_c)"
      ],
      "execution_count": 41,
      "outputs": [
        {
          "output_type": "execute_result",
          "data": {
            "text/plain": [
              "0.6739130434782609"
            ]
          },
          "metadata": {
            "tags": []
          },
          "execution_count": 41
        }
      ]
    }
  ]
}